{
  "nbformat": 4,
  "nbformat_minor": 0,
  "metadata": {
    "colab": {
      "provenance": [],
      "authorship_tag": "ABX9TyP12E3xs3jjjXmjzGLk6qZ9",
      "include_colab_link": true
    },
    "kernelspec": {
      "name": "python3",
      "display_name": "Python 3"
    },
    "language_info": {
      "name": "python"
    }
  },
  "cells": [
    {
      "cell_type": "markdown",
      "metadata": {
        "id": "view-in-github",
        "colab_type": "text"
      },
      "source": [
        "<a href=\"https://colab.research.google.com/github/muhammad-farhan67/Python101Workshop/blob/main/Python101Workshop.ipynb\" target=\"_parent\"><img src=\"https://colab.research.google.com/assets/colab-badge.svg\" alt=\"Open In Colab\"/></a>"
      ]
    },
    {
      "cell_type": "markdown",
      "source": [
        "# Comprehensive Guide to Python Basics for Beginners\n",
        "\n",
        "---\n",
        "\n",
        "## 1. Introduction to Python\n",
        "Imagine you're learning a new language to talk to your computer. That's what Python is – a language that helps you communicate with computers! It's like learning a simple, friendly language that can make computers do amazing things.\n",
        "\n",
        "Python is a high-level, interpreted programming language widely known for its readability and simplicity. It’s used in web development, data analysis, machine learning, automation, and more.\n",
        "\n",
        "### Key Benefits:\n",
        "- English Like syntax\n",
        "- Easy to read and write.\n",
        "- Large community and lots of resources.\n",
        "- Versatile with a wide range of libraries for different tasks."
      ],
      "metadata": {
        "id": "q-PsMXOJzuES"
      }
    },
    {
      "cell_type": "markdown",
      "source": [
        "## 2. Variables and Data Types\n",
        "\n",
        "### 2.1 Variables\n",
        "A **variable** in Python is a container for storing data values. There’s no need to declare the type of variable beforehand.\n",
        "- Use meaningful names for variables\n",
        "- Case-sensitive (age and Age are different variables)"
      ],
      "metadata": {
        "id": "N5Bk9WUFzxO9"
      }
    },
    {
      "cell_type": "code",
      "source": [
        "print(\"Hello, World\")"
      ],
      "metadata": {
        "colab": {
          "base_uri": "https://localhost:8080/"
        },
        "id": "k_YI85y40W32",
        "outputId": "9e6d03e7-2bc8-4c23-9da5-209ae3b2c6f1"
      },
      "execution_count": null,
      "outputs": [
        {
          "output_type": "stream",
          "name": "stdout",
          "text": [
            "Hello, World\n"
          ]
        }
      ]
    },
    {
      "cell_type": "markdown",
      "source": [
        "**Real-world Example:** Think of a variable as a box in which you can store information like the name of a person, their age, or their height.\n",
        "\n",
        "Think of variables like labeled boxes where you can store different things. In Python, these boxes can hold numbers, words, or other types of information."
      ],
      "metadata": {
        "id": "bfV485Wj0hek"
      }
    },
    {
      "cell_type": "markdown",
      "source": [
        "## 2.2 Data Types\n",
        "Just like in real life, we have different types of things – numbers, words, lists of items, etc. In Python, we call these different types of data \"data types\".\n",
        "\n",
        "Python has different types of data you can store in variables. Here are some common ones:\n",
        "\n",
        "- String (str): Text data. Example: \"Hello\"\n",
        "- Integer (int): Whole numbers. Example: 42\n",
        "- Float (float): Decimal numbers. Example: 3.14\n",
        "- Boolean (bool): True or False values. Example: True\n"
      ],
      "metadata": {
        "id": "Mu4-Tv610xRc"
      }
    },
    {
      "cell_type": "code",
      "source": [
        "customer_name = \"Alice\"\n",
        "# customer_age = 30\n",
        "# customer_weight = 65.5\n",
        "# is_member = True\n",
        "# # Check the type of a variable\n",
        "# print(type(customer_name))\n",
        "# print(type(customer_age))\n",
        "# print(type(customer_weight))\n",
        "# print(type(is_member))\n"
      ],
      "metadata": {
        "id": "FWp2DfWo0q6L"
      },
      "execution_count": null,
      "outputs": []
    },
    {
      "cell_type": "code",
      "source": [],
      "metadata": {
        "id": "FV2vDi0_M5Kx"
      },
      "execution_count": null,
      "outputs": []
    },
    {
      "cell_type": "markdown",
      "source": [
        "### 2.3 Type Conversion\n",
        "Python allows you to convert between different data types:"
      ],
      "metadata": {
        "id": "jmgxTxViEpy-"
      }
    },
    {
      "cell_type": "code",
      "source": [
        "# Type conversion examples\n",
        "x = 5\n",
        "y = 2.5\n",
        "z = \"10\"\n",
        "# x = float(x)\n",
        "# print(type(z))\n",
        "# print(float(x))\n",
        "# print(type(float(x)))\n",
        "# print(type(x))\n",
        "   # Convert int to float\n",
        "# print(int(y))      # Convert float to int\n",
        "z = (int(z))      # Convert string to int\n",
        "# print(str(x))      # Convert int to string\n",
        "\n",
        "z = z+3\n",
        "print(z)\n"
      ],
      "metadata": {
        "id": "dNq73qiUEsyC",
        "colab": {
          "base_uri": "https://localhost:8080/"
        },
        "outputId": "1b09b573-9448-4eb0-bab5-f35dc46079ce"
      },
      "execution_count": 26,
      "outputs": [
        {
          "output_type": "stream",
          "name": "stdout",
          "text": [
            "13\n"
          ]
        }
      ]
    },
    {
      "cell_type": "code",
      "source": [],
      "metadata": {
        "id": "ENaHX8HZYEpy"
      },
      "execution_count": null,
      "outputs": []
    },
    {
      "cell_type": "markdown",
      "source": [
        "## 3. Operators"
      ],
      "metadata": {
        "id": "qG26en8512Ou"
      }
    },
    {
      "cell_type": "markdown",
      "source": [
        "\n",
        "### 3.1  Arithmetic Operators\n",
        "Arithmetic operators perform basic math operations."
      ],
      "metadata": {
        "id": "2pKfPNRC1Kcj"
      }
    },
    {
      "cell_type": "code",
      "source": [
        "# Example:\n",
        "x = -10\n",
        "y = 3\n",
        "# z = x + y\n",
        "# print(z)  # Addition: 13\n",
        "# print(x - y)  # Subtraction: 7\n",
        "# print(x * y)  # Multiplication: 30\n",
        "# print(x / y)  # Division: 3.33\n",
        "# print(x // y)  # Floor Division: 3 (returns integer)\n",
        "# print(x % y)  # Modulus: 1 (remainder of division)\n",
        "print(x ** y)  # Exponentiation: 1000 (10^3)\n"
      ],
      "metadata": {
        "id": "KMmVagQm1KCB",
        "colab": {
          "base_uri": "https://localhost:8080/"
        },
        "outputId": "ab4aa886-0e9f-408b-b09a-f10479929659"
      },
      "execution_count": 39,
      "outputs": [
        {
          "output_type": "stream",
          "name": "stdout",
          "text": [
            "-1000\n"
          ]
        }
      ]
    },
    {
      "cell_type": "markdown",
      "source": [
        "### 3.2 Comparison Operators\n",
        "These compare two values and return either True or False."
      ],
      "metadata": {
        "id": "4HX2xUHe1o5R"
      }
    },
    {
      "cell_type": "code",
      "source": [
        "# Example:\n",
        "a = 5\n",
        "b = 10\n",
        "c = 3\n",
        "# print(a > b)   # False\n",
        "# print(a < b)   # True\n",
        "# print(a != b)  # False\n",
        "print(not(a > b or b > c ))"
      ],
      "metadata": {
        "id": "n507H02C1nOI",
        "colab": {
          "base_uri": "https://localhost:8080/"
        },
        "outputId": "c0289dc8-b585-4807-a950-249105ca2c3e"
      },
      "execution_count": 51,
      "outputs": [
        {
          "output_type": "stream",
          "name": "stdout",
          "text": [
            "False\n"
          ]
        }
      ]
    },
    {
      "cell_type": "markdown",
      "source": [
        "### 3.3 Logical Operators\n",
        "Logical operators are used to combine conditions.\n",
        "\n",
        "- and: True if both conditions are true.\n",
        "- or: True if at least one condition is true.\n",
        "- not: Reverses the result of the condition."
      ],
      "metadata": {
        "id": "C4qodCWU2MvN"
      }
    },
    {
      "cell_type": "code",
      "source": [
        "# Example:\n",
        "x = True\n",
        "y = False\n",
        "\n",
        " # False\n",
        "# print(x or y)   # True\n",
        "print(not x)    # False\n"
      ],
      "metadata": {
        "id": "rVbbhJRV2UP6",
        "colab": {
          "base_uri": "https://localhost:8080/"
        },
        "outputId": "db0d1c9f-18ee-43bf-ba93-5433bc733712"
      },
      "execution_count": 50,
      "outputs": [
        {
          "output_type": "stream",
          "name": "stdout",
          "text": [
            "False\n"
          ]
        }
      ]
    },
    {
      "cell_type": "markdown",
      "source": [
        "### 3.4 Assignment Operators\n",
        "Assignment operators are used to assign values to variables.\n",
        "\n",
        "- = : Simple assignment\n",
        "- += : Add and assign\n",
        "- -= : Subtract and assign\n",
        "- *= : Multiply and assign\n",
        "- /= : Divide and assign"
      ],
      "metadata": {
        "id": "QXiQWIc1FS-y"
      }
    },
    {
      "cell_type": "code",
      "source": [
        "z = 7\n",
        "z //= 3\n",
        "print(z)"
      ],
      "metadata": {
        "colab": {
          "base_uri": "https://localhost:8080/"
        },
        "id": "pUIEIMVtfOcQ",
        "outputId": "6ed41b46-5fff-443c-8558-33a503d26dd6"
      },
      "execution_count": 53,
      "outputs": [
        {
          "output_type": "stream",
          "name": "stdout",
          "text": [
            "2\n"
          ]
        }
      ]
    },
    {
      "cell_type": "markdown",
      "source": [
        "## 4. Control Flow"
      ],
      "metadata": {
        "id": "cPJkKQQ72XUD"
      }
    },
    {
      "cell_type": "markdown",
      "source": [
        "### 4.1 If-Else Statements\n",
        "These are like the decisions you make every day based on certain conditions.\n",
        "Real-life example: Deciding what to wear based on the weather"
      ],
      "metadata": {
        "id": "iOsDTO_Q2eJb"
      }
    },
    {
      "cell_type": "code",
      "source": [
        "temperature = 50\n",
        "\n",
        "if temperature > 30:\n",
        "    print(\"It's very hot! Wear light clothes and sunscreen.\")\n",
        "elif temperature > 20:\n",
        "    print(\"It's warm. A t-shirt should be fine.\")\n",
        "elif temperature > 10:\n",
        "    print(\"It's cool. You might need a jacket.\")\n",
        "else:\n",
        "    print(\"It's cold! Wear a warm coat.\")\n",
        "# # Example:\n",
        "# age = 20\n",
        "\n",
        "# if age >= 18:\n",
        "#     print(\"You are an adult\")\n",
        "# else:\n",
        "#     print(\"You are a minor\")\n"
      ],
      "metadata": {
        "id": "cOmFwyMd2i12",
        "colab": {
          "base_uri": "https://localhost:8080/"
        },
        "outputId": "30091398-67e4-4fe0-a071-7cf2bed95fa3"
      },
      "execution_count": 61,
      "outputs": [
        {
          "output_type": "stream",
          "name": "stdout",
          "text": [
            "It's very hot! Wear light clothes and sunscreen.\n"
          ]
        }
      ]
    },
    {
      "cell_type": "markdown",
      "source": [
        "### 4.2 For Loop\n",
        "A for loop is used to iterate over sequences (like a list or range) and repeat a block of code for each item."
      ],
      "metadata": {
        "id": "1okI-jrt2yTT"
      }
    },
    {
      "cell_type": "code",
      "source": [
        "for i in range(0,21,2):\n",
        "  print(i)"
      ],
      "metadata": {
        "id": "91AOSHeZNB9m",
        "colab": {
          "base_uri": "https://localhost:8080/"
        },
        "outputId": "b8f61765-dc62-44cc-ea96-d783ba4d3d84"
      },
      "execution_count": 69,
      "outputs": [
        {
          "output_type": "stream",
          "name": "stdout",
          "text": [
            "0\n",
            "2\n",
            "4\n",
            "6\n",
            "8\n",
            "10\n",
            "12\n",
            "14\n",
            "16\n",
            "18\n",
            "20\n"
          ]
        }
      ]
    },
    {
      "cell_type": "code",
      "source": [],
      "metadata": {
        "id": "02IWEt_aM-Sq"
      },
      "execution_count": null,
      "outputs": []
    },
    {
      "cell_type": "code",
      "source": [
        "# Example: Looping over a list of fruits\n",
        "fruits = [\"apple\", \"banana\", \"cherry\"]\n",
        "\n",
        "for fruit in fruits:\n",
        "    print(fruit)\n"
      ],
      "metadata": {
        "id": "wX1gHlsk2m8w"
      },
      "execution_count": null,
      "outputs": []
    },
    {
      "cell_type": "markdown",
      "source": [
        "**Real-world Example:** If you have a list of customers in a store, you can loop through each customer to print their details or calculate their total bill."
      ],
      "metadata": {
        "id": "TPNuaT6r28A-"
      }
    },
    {
      "cell_type": "markdown",
      "source": [],
      "metadata": {
        "id": "swR0xs_f3D9r"
      }
    },
    {
      "cell_type": "markdown",
      "source": [
        "### 4.3 While Loop\n",
        "A while loop repeats a block of code as long as a condition is true."
      ],
      "metadata": {
        "id": "Qc4C4ihq3IGG"
      }
    },
    {
      "cell_type": "code",
      "source": [
        "# Example: Counting down from 5\n",
        "count = 5\n",
        "while count > 0:\n",
        "    print(count)\n",
        "    count -= 1\n"
      ],
      "metadata": {
        "id": "bzCnc2XH27eS",
        "colab": {
          "base_uri": "https://localhost:8080/"
        },
        "outputId": "0657eff7-8e94-4384-8a58-456c73a57eef"
      },
      "execution_count": 70,
      "outputs": [
        {
          "output_type": "stream",
          "name": "stdout",
          "text": [
            "5\n",
            "4\n",
            "3\n",
            "2\n",
            "1\n"
          ]
        }
      ]
    },
    {
      "cell_type": "markdown",
      "source": [
        "### 4.4 Break and Continue Statements\n",
        "\n",
        "`break`: Exits the current loop\n",
        "\n",
        "`continue`: Skips the rest of the current iteration and moves to the next one"
      ],
      "metadata": {
        "id": "UdD1SzNYBoMy"
      }
    },
    {
      "cell_type": "code",
      "source": [
        "# # Using break\n",
        "# for i in range(10):\n",
        "#     if i == 5:\n",
        "#         break\n",
        "#     print(i)\n",
        "\n",
        "# Using continue\n",
        "for i in range(5):\n",
        "    if i == 2:\n",
        "        continue\n",
        "    print(i)"
      ],
      "metadata": {
        "id": "bQlFAjjkB2zd",
        "colab": {
          "base_uri": "https://localhost:8080/"
        },
        "outputId": "1092ec2c-5db0-49e3-d843-3a112293d9fb"
      },
      "execution_count": 72,
      "outputs": [
        {
          "output_type": "stream",
          "name": "stdout",
          "text": [
            "0\n",
            "1\n",
            "3\n",
            "4\n"
          ]
        }
      ]
    },
    {
      "cell_type": "code",
      "source": [],
      "metadata": {
        "id": "HVJ1iqpNNHjv"
      },
      "execution_count": null,
      "outputs": []
    },
    {
      "cell_type": "markdown",
      "source": [
        "## 5. Data Structures"
      ],
      "metadata": {
        "id": "mJJ7X2VJ3isO"
      }
    },
    {
      "cell_type": "markdown",
      "source": [
        "### 5.1 Lists\n",
        "Lists are like a row of boxes where you can store different items. You can add, remove, or change items in the list.\n",
        "\n",
        "Lists are ordered, mutable sequences. They are one of the most versatile data structures in Python.\n",
        "\n",
        "**Key features:**\n",
        "\n",
        "- Created using square brackets [ ]\n",
        "- Can contain items of different types\n",
        "- Mutable (can be changed after creation)\n",
        "- Accessed by index (starting from 0)"
      ],
      "metadata": {
        "id": "ltj8vgem3NjZ"
      }
    },
    {
      "cell_type": "code",
      "source": [
        "color1 = \"blue\"\n",
        "color1 = \"red\"\n",
        "color1 = \"yellow\"\n",
        "color1 = \"black\"\n",
        "color1 = \"blue\"\n",
        "\n",
        "color = [\"blue\",\"red\",\"yellow\"]\n",
        "\n",
        "print(color)"
      ],
      "metadata": {
        "colab": {
          "base_uri": "https://localhost:8080/"
        },
        "id": "AuJPVrhVmXAB",
        "outputId": "c617cff9-75e2-46cd-f467-4df75709c62d"
      },
      "execution_count": 73,
      "outputs": [
        {
          "output_type": "stream",
          "name": "stdout",
          "text": [
            "['blue', 'red', 'yellow']\n"
          ]
        }
      ]
    },
    {
      "cell_type": "code",
      "source": [
        "# Creating a list\n",
        "fruits = (\"apple\", \"banana\", \"cherry\", 12 , 12.5)\n",
        "\n",
        "# Accessing elements\n",
        "print(fruits[0])  # Output: apple\n",
        "\n",
        "# Modifying elements\n",
        "# fruits[1] = \"blueberry\"\n",
        "print(fruits)  # Output: ['apple', 'blueberry', 'cherry']\n",
        "\n",
        "# # # Adding elements\n",
        "# fruits.append(\"date\")\n",
        "# print(fruits)  # Output: ['apple',  'cherry', 'date']\n",
        "\n",
        "# Removing elements\n",
        "# fruits.remove(\"cherry\")\n",
        "# print(fruits)  # Output: ['apple', 'blueberry', 'date']\n",
        "\n",
        "# List length\n",
        "# print(len(fruits))  # Output: 3\n",
        "\n",
        "# # List slicing\n",
        "print(fruits)  # Output: ['blueberry', 'date']\n"
      ],
      "metadata": {
        "id": "OXQFUhvf3lC1",
        "colab": {
          "base_uri": "https://localhost:8080/"
        },
        "outputId": "7010a27d-03b5-4858-82a4-c56d6909127a"
      },
      "execution_count": 82,
      "outputs": [
        {
          "output_type": "stream",
          "name": "stdout",
          "text": [
            "apple\n",
            "('apple', 'banana', 'cherry', 12, 12.5)\n",
            "('apple', 'banana', 'cherry', 12, 12.5)\n"
          ]
        }
      ]
    },
    {
      "cell_type": "markdown",
      "source": [
        "### **Pros:**\n",
        "\n",
        "- Can store multiple data types.\n",
        "- Easy to modify.\n",
        "\n",
        "### **Cons:**\n",
        "\n",
        "- Slower for large datasets compared to sets.\n",
        "\n",
        " **Real-world Example:** If you have a shopping list, you can store the items as a list and add/remove items as needed."
      ],
      "metadata": {
        "id": "XEtS5T5k3o2f"
      }
    },
    {
      "cell_type": "markdown",
      "source": [
        "### 5.2 Tuples\n",
        "Tuples are ordered, immutable sequences. Tuples are like lists, but once you create them, you can't change them. They're useful for data that shouldn't change.\n",
        "\n",
        "**Key features:**\n",
        "\n",
        "- Created using parentheses ()\n",
        "- Can contain items of different types\n",
        "- Immutable (cannot be changed after creation)\n",
        "- Accessed by index (starting from 0)"
      ],
      "metadata": {
        "id": "mykjALnY4DSa"
      }
    },
    {
      "cell_type": "code",
      "source": [
        "# Creating a tuple\n",
        "coordinates = (4, 5)\n",
        "\n",
        "# Accessing elements\n",
        "print(coordinates[0])  # Output: 4\n",
        "\n",
        "# Tuples are immutable\n",
        "# This will raise an error:\n",
        "# coordinates[0] = 2\n",
        "\n",
        "# Tuple packing and unpacking\n",
        "x, y = coordinates\n",
        "print(x, y)  # Output: 4 5\n"
      ],
      "metadata": {
        "id": "XZxnm_qI4ISE"
      },
      "execution_count": null,
      "outputs": []
    },
    {
      "cell_type": "markdown",
      "source": [
        "### **Pros:**\n",
        "\n",
        "- Faster than lists for reading data.\n",
        "- Useful for fixed data like GPS coordinates.\n",
        "### **Cons:**\n",
        "\n",
        "- Cannot modify elements once created.\n",
        "\n",
        "**Real-world Example:** If you store fixed information like geographical coordinates or dates of birth, use a tuple."
      ],
      "metadata": {
        "id": "z4tykypX4Qxu"
      }
    },
    {
      "cell_type": "markdown",
      "source": [
        "### 5.3 Sets\n",
        "A set is an unordered collection of unique items."
      ],
      "metadata": {
        "id": "uKaSs6dp4RbZ"
      }
    },
    {
      "cell_type": "code",
      "source": [
        "# Example:\n",
        "unique_numbers = {1, 2, 3, 4, 4, 5}\n",
        "\n",
        "# Adding an item\n",
        "unique_numbers.add(6)\n",
        "\n",
        "# # Removing an item\n",
        "# unique_numbers.remove(3)\n",
        "print(unique_numbers)"
      ],
      "metadata": {
        "id": "PaGmUdyT4MLi",
        "colab": {
          "base_uri": "https://localhost:8080/"
        },
        "outputId": "b2d4598a-c851-4397-909f-6a00d69438ec"
      },
      "execution_count": 84,
      "outputs": [
        {
          "output_type": "stream",
          "name": "stdout",
          "text": [
            "{1, 2, 3, 4, 5}\n"
          ]
        }
      ]
    },
    {
      "cell_type": "markdown",
      "source": [
        "### Pros:\n",
        "\n",
        "- Fast operations like adding or checking items.\n",
        "- Ensures uniqueness.\n",
        "\n",
        "### Cons:\n",
        "\n",
        "- Unordered, so you cannot access elements by index.\n",
        "\n",
        "**Real-world Example:** You can use sets to keep track of unique items, like a list of unique customer IDs."
      ],
      "metadata": {
        "id": "6cnd3s704jwU"
      }
    },
    {
      "cell_type": "markdown",
      "source": [
        "### 5.4 Dictionaries\n",
        "Dictionaries are unordered collections of key-value pairs.\n",
        "\n",
        "**Key features:**\n",
        "\n",
        "- Created using curly braces {}\n",
        "- Consist of key-value pairs\n",
        "- Keys must be unique and immutable\n",
        "- Values can be of any type\n",
        "- Accessed by key, not index"
      ],
      "metadata": {
        "id": "1ppPNmZl4zNY"
      }
    },
    {
      "cell_type": "code",
      "source": [
        "# Creating a dictionary\n",
        "person = {\n",
        "    \"name\": \"Alice\",\n",
        "    \"age\": 30,\n",
        "    \"city\": \"New York\"\n",
        "}\n",
        "\n",
        "# Accessing values\n",
        "# print(person[\"name\"])  # Output: Alice\n",
        "\n",
        "# # Modifying values\n",
        "# person[\"age\"] = 31\n",
        "# print(person)\n",
        "\n",
        "# Adding new key-value pairs\n",
        "person[\"job\"] = \"Engineer\"\n",
        "# print(person)\n",
        "\n",
        "# # Removing key-value pairs\n",
        "# del person[\"city\"]\n",
        "# print(person)\n",
        "\n",
        "# # Dictionary methods\n",
        "print(person.keys())\n",
        "print(person.values())\n",
        "# print(person.items())\n"
      ],
      "metadata": {
        "id": "KInG8Fqn43eI",
        "colab": {
          "base_uri": "https://localhost:8080/"
        },
        "outputId": "e2197ba6-5172-4688-ff3e-aeb3882f3f24"
      },
      "execution_count": 91,
      "outputs": [
        {
          "output_type": "stream",
          "name": "stdout",
          "text": [
            "dict_keys(['name', 'age', 'city', 'job'])\n",
            "dict_values(['Alice', 30, 'New York', 'Engineer'])\n"
          ]
        }
      ]
    },
    {
      "cell_type": "markdown",
      "source": [
        "### Pros:\n",
        "\n",
        "- Fast lookups by key.\n",
        "- Highly flexible for organizing data.\n",
        "\n",
        "### Cons:\n",
        "\n",
        "-  Keys must be unique.\n",
        "\n",
        "**Real-world Example:** If you want to store information about a person, like their name, age, and city, you can use a dictionary."
      ],
      "metadata": {
        "id": "LqpER23z47l7"
      }
    },
    {
      "cell_type": "markdown",
      "source": [
        "## 6. Functions\n"
      ],
      "metadata": {
        "id": "l1KS7Nn-5N3_"
      }
    },
    {
      "cell_type": "markdown",
      "source": [
        "### 6.1 Defining and Using Functions\n",
        "A function is a reusable block of code that performs a specific task."
      ],
      "metadata": {
        "id": "hrGiz2QV5YOf"
      }
    },
    {
      "cell_type": "code",
      "source": [
        "# Example: A simple function to greet a user\n",
        "def greet_user(name):\n",
        "  print(f\"Hello, {name}!\")\n",
        "greet_user(\"Alice\")  # Output: Hello, Alice!\n",
        "greet_user(\"Farhan\")"
      ],
      "metadata": {
        "id": "FkMLqVfI5a5J",
        "colab": {
          "base_uri": "https://localhost:8080/"
        },
        "outputId": "453bae04-634e-4b23-c66f-732646c1e4bd"
      },
      "execution_count": 94,
      "outputs": [
        {
          "output_type": "stream",
          "name": "stdout",
          "text": [
            "Hello, Alice!\n",
            "Hello, Farhan!\n"
          ]
        }
      ]
    },
    {
      "cell_type": "markdown",
      "source": [
        "**Real-world Example:** Imagine you have a business where you frequently need to send greeting messages to customers. A function can simplify this repetitive task."
      ],
      "metadata": {
        "id": "IfChxBR-5cq9"
      }
    },
    {
      "cell_type": "markdown",
      "source": [
        "### 6.2 Functions with Return Values\n",
        "Functions can return values that you can store or use later."
      ],
      "metadata": {
        "id": "_2jaSliM5lD9"
      }
    },
    {
      "cell_type": "code",
      "source": [
        "# Example: A function to calculate the area of a rectangle\n",
        "def calculate_area(width, height):\n",
        "    return width * height\n",
        "\n",
        "area = calculate_area(5, 10)\n",
        "print(area)  # Output: 50\n"
      ],
      "metadata": {
        "id": "z5y_v9d75vrc",
        "colab": {
          "base_uri": "https://localhost:8080/"
        },
        "outputId": "011f3101-0f96-468d-fa04-e1e29508bf85"
      },
      "execution_count": 95,
      "outputs": [
        {
          "output_type": "stream",
          "name": "stdout",
          "text": [
            "50\n"
          ]
        }
      ]
    }
  ]
}